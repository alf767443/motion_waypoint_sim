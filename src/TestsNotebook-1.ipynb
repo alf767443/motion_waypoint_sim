{
 "cells": [
  {
   "cell_type": "code",
   "execution_count": 32,
   "metadata": {},
   "outputs": [
    {
     "name": "stdout",
     "output_type": "stream",
     "text": [
      "<class 'pandas.core.frame.DataFrame'>\n",
      "RangeIndex: 2 entries, 0 to 1\n",
      "Data columns (total 7 columns):\n",
      " #   Column  Non-Null Count  Dtype\n",
      "---  ------  --------------  -----\n",
      " 0   pos_x   2 non-null      int64\n",
      " 1   pos_y   2 non-null      int64\n",
      " 2   pos_z   2 non-null      int64\n",
      " 3   ori_x   2 non-null      int64\n",
      " 4   ori_y   2 non-null      int64\n",
      " 5   ori_z   2 non-null      int64\n",
      " 6   ori_w   2 non-null      int64\n",
      "dtypes: int64(7)\n",
      "memory usage: 240.0 bytes\n",
      "None\n",
      "Imported file\n",
      "The value in row 1 are: \n",
      " pos_x    0\n",
      "pos_y    0\n",
      "pos_z    0\n",
      "ori_x    1\n",
      "ori_y    1\n",
      "ori_z    1\n",
      "ori_w    0\n",
      "Name: 0, dtype: int64\n"
     ]
    }
   ],
   "source": [
    "import pandas as pd\n",
    "\n",
    "class CSVReader:\n",
    "    def __init__(self, file_path='waypoint_list.csv'):\n",
    "        self.file_path = file_path\n",
    "        # Read the csv file\n",
    "        self.read_csv()\n",
    "\n",
    "    def read_csv(self):\n",
    "        try:\n",
    "            self.df = pd.read_csv(self.file_path)\n",
    "            print(self.df.info())\n",
    "            print('Imported file')\n",
    "            return True\n",
    "        except Exception as e:\n",
    "            print(f\"Erro ao ler o arquivo CSV: {str(e)}\")\n",
    "            return False\n",
    "        \n",
    "    def get_row(self, row:int):\n",
    "        try:\n",
    "            # Get the row value\n",
    "            value = self.df.iloc[row - 1]\n",
    "            print(f\"The value in row {str(row)} are: \\n {str(value)}\")\n",
    "            return value\n",
    "        except Exception as e:\n",
    "            print(f\"Error to get the row {str(row)}\")\n",
    "            print(\"An exception occurred:\", type(e).__name__,e.args)\n",
    "            return False\n",
    "\n",
    "# Exemplo de uso\n",
    "if __name__ == \"__main__\":\n",
    "    # Substitua 'seu_arquivo.csv' pelo caminho do seu arquivo CSV\n",
    "    csv_reader = CSVReader()\n",
    "    csv_reader.get_row(1)\n"
   ]
  },
  {
   "cell_type": "code",
   "execution_count": null,
   "metadata": {},
   "outputs": [],
   "source": []
  }
 ],
 "metadata": {
  "kernelspec": {
   "display_name": "Python 3",
   "language": "python",
   "name": "python3"
  },
  "language_info": {
   "codemirror_mode": {
    "name": "ipython",
    "version": 3
   },
   "file_extension": ".py",
   "mimetype": "text/x-python",
   "name": "python",
   "nbconvert_exporter": "python",
   "pygments_lexer": "ipython3",
   "version": "3.8.10"
  }
 },
 "nbformat": 4,
 "nbformat_minor": 2
}
