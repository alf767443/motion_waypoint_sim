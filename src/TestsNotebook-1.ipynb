{
 "cells": [
  {
   "cell_type": "code",
   "execution_count": null,
   "metadata": {},
   "outputs": [],
   "source": [
    "import subprocess\n",
    "import time\n",
    "\n",
    "# Abre um arquivo de log para registrar as informações dos terminais\n",
    "log_file = open('ros_log.txt', 'a')\n",
    "\n",
    "# Lista de comandos a serem executados em sequência\n",
    "comandos = [\n",
    "    \"roslaunch husky_gazebo husky_playpen.launch\",\n",
    "    \"roslaunch husky_navigation gmapping_navigation_1.launch\",\n",
    "    \"roslaunch husky_viz view_robot.launch\",\n",
    "    \"rosrun motion_waypoint_sim waypoint_manager.py\"\n",
    "    \"rosrun mo\"\n",
    "]\n",
    "\n",
    "# Executa os comandos em sequência\n",
    "for comando in comandos:\n",
    "    print(f\"Executando: {comando}\")\n",
    "    log_file.write(f\"Executando: {comando}\\n\")\n",
    "    \n",
    "    # Inicia um novo terminal para executar o comando\n",
    "    subprocess.Popen([\"gnome-terminal\", \"--\", \"bash\", \"-c\", comando])\n",
    "\n",
    "    # Espera o comando atual terminar\n",
    "    subprocess.Popen([\"gnome-terminal\", \"--\", \"bash\", \"-c\", f\"wait $! && echo 'Comando concluído: {comando}'\"])\n",
    "\n",
    "    # Aguarda um tempo para garantir que o comando atual seja iniciado antes de prosseguir\n",
    "    time.sleep(2)\n",
    "\n",
    "# Encerra o ROS após a execução do último comando\n",
    "print(\"Encerrando o ROS...\")\n",
    "log_file.write(\"Encerrando o ROS...\\n\")\n",
    "subprocess.call([\"rosnode\", \"cleanup\"])\n",
    "subprocess.call([\"rosnode\", \"kill\", \"-a\"])\n",
    "\n",
    "log_file.close()\n"
   ]
  },
  {
   "cell_type": "code",
   "execution_count": 6,
   "metadata": {},
   "outputs": [
    {
     "name": "stdout",
     "output_type": "stream",
     "text": [
      "Arquivo topics.txt criado com sucesso.\n"
     ]
    }
   ],
   "source": [
    "import csv\n",
    "\n",
    "# Nome do arquivo CSV de entrada\n",
    "input_csv_file = '../waypoints/topics.csv'\n",
    "\n",
    "# Nome do arquivo de texto de saída\n",
    "output_txt_file = 'topics.txt'\n",
    "\n",
    "# Lista para armazenar os dicionários\n",
    "topic_list = []\n",
    "\n",
    "# Abre o arquivo CSV e lê as informações\n",
    "with open(input_csv_file, 'r') as csv_file:\n",
    "    csv_reader = csv.reader(csv_file)\n",
    "    # Ignora o cabeçalho\n",
    "    next(csv_reader)\n",
    "    for row in csv_reader:\n",
    "        topic, msg_type = row\n",
    "        # Remove espaços em branco extras\n",
    "        topic = topic.strip()\n",
    "        msg_type = msg_type.strip()\n",
    "        # Adiciona um dicionário à lista\n",
    "        topic_dict = {\n",
    "            'topic': topic,\n",
    "            'msg': msg_type,\n",
    "            'sleep': 0.2\n",
    "        }\n",
    "        topic_list.append(topic_dict)\n",
    "\n",
    "# Abre o arquivo de texto de saída e escreve os dicionários formatados\n",
    "with open(output_txt_file, 'w') as txt_file:\n",
    "    for topic_dict in topic_list:\n",
    "        txt_file.write(f\"    # {topic_dict['topic']}\\n\")\n",
    "        txt_file.write(\"    {\\n\")\n",
    "        txt_file.write(f\"        'topic'   : '{topic_dict['topic']}',\\n\")\n",
    "        txt_file.write(f\"        'msg'     : {topic_dict['msg']},\\n\")\n",
    "        txt_file.write(f\"        'sleep'   : {topic_dict['sleep']}\\n\")\n",
    "        txt_file.write(\"    },\\n\")\n",
    "\n",
    "print(f'Arquivo {output_txt_file} criado com sucesso.')\n"
   ]
  },
  {
   "cell_type": "code",
   "execution_count": 1,
   "metadata": {},
   "outputs": [
    {
     "ename": "ROSException",
     "evalue": "rospy.init_node() has already been called with different arguments: ('main_node', ['/home/a54187/.local/lib/python3.8/site-packages/ipykernel_launcher.py', '--ip=127.0.0.1', '--stdin=9003', '--control=9001', '--hb=9000', '--Session.signature_scheme=\"hmac-sha256\"', '--Session.key=b\"e41b570b-9cb3-4e00-b964-69c8eb563571\"', '--shell=9002', '--transport=\"tcp\"', '--iopub=9004', '--f=/home/a54187/.local/share/jupyter/runtime/kernel-v2-24629477abruUHfeRQF.json'], True, None, False, False)",
     "output_type": "error",
     "traceback": [
      "\u001b[0;31m---------------------------------------------------------------------------\u001b[0m",
      "\u001b[0;31mROSException\u001b[0m                              Traceback (most recent call last)",
      "\u001b[1;32m/home/a54187/husky_ws/src/motion_waypoint_sim/src/TestsNotebook-1.ipynb Célula 3\u001b[0m line \u001b[0;36m4\n\u001b[1;32m     <a href='vscode-notebook-cell://tunnel%2Bubuntu-jllima-a54187/home/a54187/husky_ws/src/motion_waypoint_sim/src/TestsNotebook-1.ipynb#W2sdnNjb2RlLXJlbW90ZQ%3D%3D?line=36'>37</a>\u001b[0m         rospy\u001b[39m.\u001b[39mspin()\n\u001b[1;32m     <a href='vscode-notebook-cell://tunnel%2Bubuntu-jllima-a54187/home/a54187/husky_ws/src/motion_waypoint_sim/src/TestsNotebook-1.ipynb#W2sdnNjb2RlLXJlbW90ZQ%3D%3D?line=38'>39</a>\u001b[0m \u001b[39mif\u001b[39;00m \u001b[39m__name__\u001b[39m \u001b[39m==\u001b[39m \u001b[39m'\u001b[39m\u001b[39m__main__\u001b[39m\u001b[39m'\u001b[39m:\n\u001b[0;32m---> <a href='vscode-notebook-cell://tunnel%2Bubuntu-jllima-a54187/home/a54187/husky_ws/src/motion_waypoint_sim/src/TestsNotebook-1.ipynb#W2sdnNjb2RlLXJlbW90ZQ%3D%3D?line=39'>40</a>\u001b[0m     main_node \u001b[39m=\u001b[39m MainNode()\n\u001b[1;32m     <a href='vscode-notebook-cell://tunnel%2Bubuntu-jllima-a54187/home/a54187/husky_ws/src/motion_waypoint_sim/src/TestsNotebook-1.ipynb#W2sdnNjb2RlLXJlbW90ZQ%3D%3D?line=40'>41</a>\u001b[0m     main_node\u001b[39m.\u001b[39mrun()\n",
      "\u001b[1;32m/home/a54187/husky_ws/src/motion_waypoint_sim/src/TestsNotebook-1.ipynb Célula 3\u001b[0m line \u001b[0;36m2\n\u001b[1;32m     <a href='vscode-notebook-cell://tunnel%2Bubuntu-jllima-a54187/home/a54187/husky_ws/src/motion_waypoint_sim/src/TestsNotebook-1.ipynb#W2sdnNjb2RlLXJlbW90ZQ%3D%3D?line=23'>24</a>\u001b[0m rospy\u001b[39m.\u001b[39minit_node(\u001b[39m'\u001b[39m\u001b[39mmain_node\u001b[39m\u001b[39m'\u001b[39m, anonymous\u001b[39m=\u001b[39m\u001b[39mTrue\u001b[39;00m)\n\u001b[1;32m     <a href='vscode-notebook-cell://tunnel%2Bubuntu-jllima-a54187/home/a54187/husky_ws/src/motion_waypoint_sim/src/TestsNotebook-1.ipynb#W2sdnNjb2RlLXJlbW90ZQ%3D%3D?line=25'>26</a>\u001b[0m \u001b[39m# Crie instâncias das classes de subnós\u001b[39;00m\n\u001b[0;32m---> <a href='vscode-notebook-cell://tunnel%2Bubuntu-jllima-a54187/home/a54187/husky_ws/src/motion_waypoint_sim/src/TestsNotebook-1.ipynb#W2sdnNjb2RlLXJlbW90ZQ%3D%3D?line=26'>27</a>\u001b[0m \u001b[39mself\u001b[39m\u001b[39m.\u001b[39msubnode1 \u001b[39m=\u001b[39m SubNode1()\n\u001b[1;32m     <a href='vscode-notebook-cell://tunnel%2Bubuntu-jllima-a54187/home/a54187/husky_ws/src/motion_waypoint_sim/src/TestsNotebook-1.ipynb#W2sdnNjb2RlLXJlbW90ZQ%3D%3D?line=27'>28</a>\u001b[0m \u001b[39mself\u001b[39m\u001b[39m.\u001b[39msubnode2 \u001b[39m=\u001b[39m SubNode2()\n",
      "\u001b[1;32m/home/a54187/husky_ws/src/motion_waypoint_sim/src/TestsNotebook-1.ipynb Célula 3\u001b[0m line \u001b[0;36m6\n\u001b[1;32m      <a href='vscode-notebook-cell://tunnel%2Bubuntu-jllima-a54187/home/a54187/husky_ws/src/motion_waypoint_sim/src/TestsNotebook-1.ipynb#W2sdnNjb2RlLXJlbW90ZQ%3D%3D?line=4'>5</a>\u001b[0m \u001b[39mdef\u001b[39;00m \u001b[39m__init__\u001b[39m(\u001b[39mself\u001b[39m):\n\u001b[0;32m----> <a href='vscode-notebook-cell://tunnel%2Bubuntu-jllima-a54187/home/a54187/husky_ws/src/motion_waypoint_sim/src/TestsNotebook-1.ipynb#W2sdnNjb2RlLXJlbW90ZQ%3D%3D?line=5'>6</a>\u001b[0m     rospy\u001b[39m.\u001b[39;49minit_node(\u001b[39m'\u001b[39;49m\u001b[39msubnode_1\u001b[39;49m\u001b[39m'\u001b[39;49m, anonymous\u001b[39m=\u001b[39;49m\u001b[39mTrue\u001b[39;49;00m)\n",
      "File \u001b[0;32m/opt/ros/noetic/lib/python3/dist-packages/rospy/client.py:274\u001b[0m, in \u001b[0;36minit_node\u001b[0;34m(name, argv, anonymous, log_level, disable_rostime, disable_rosout, disable_signals, xmlrpc_port, tcpros_port)\u001b[0m\n\u001b[1;32m    272\u001b[0m \u001b[39mif\u001b[39;00m _init_node_args:\n\u001b[1;32m    273\u001b[0m     \u001b[39mif\u001b[39;00m _init_node_args \u001b[39m!=\u001b[39m (name, argv, anonymous, log_level, disable_rostime, disable_signals):\n\u001b[0;32m--> 274\u001b[0m         \u001b[39mraise\u001b[39;00m rospy\u001b[39m.\u001b[39mexceptions\u001b[39m.\u001b[39mROSException(\u001b[39m\"\u001b[39m\u001b[39mrospy.init_node() has already been called with different arguments: \u001b[39m\u001b[39m\"\u001b[39m\u001b[39m+\u001b[39m\u001b[39mstr\u001b[39m(_init_node_args))\n\u001b[1;32m    275\u001b[0m     \u001b[39melse\u001b[39;00m:\n\u001b[1;32m    276\u001b[0m         \u001b[39mreturn\u001b[39;00m \u001b[39m#already initialized\u001b[39;00m\n",
      "\u001b[0;31mROSException\u001b[0m: rospy.init_node() has already been called with different arguments: ('main_node', ['/home/a54187/.local/lib/python3.8/site-packages/ipykernel_launcher.py', '--ip=127.0.0.1', '--stdin=9003', '--control=9001', '--hb=9000', '--Session.signature_scheme=\"hmac-sha256\"', '--Session.key=b\"e41b570b-9cb3-4e00-b964-69c8eb563571\"', '--shell=9002', '--transport=\"tcp\"', '--iopub=9004', '--f=/home/a54187/.local/share/jupyter/runtime/kernel-v2-24629477abruUHfeRQF.json'], True, None, False, False)"
     ]
    }
   ],
   "source": [
    "#!/usr/bin/env python\n",
    "import rospy\n",
    "\n",
    "class SubNode1:\n",
    "    def __init__(self):\n",
    "        rospy.init_node('subnode_1', anonymous=True)\n",
    "        # Implemente a lógica do subnó 1\n",
    "        # Configure publicadores, assinantes, serviços, etc.\n",
    "    \n",
    "    def run(self):\n",
    "        rospy.spin()\n",
    "\n",
    "class SubNode2:\n",
    "    def __init__(self):\n",
    "        rospy.init_node('subnode_2', anonymous=True)\n",
    "        # Implemente a lógica do subnó 2\n",
    "        # Configure publicadores, assinantes, serviços, etc.\n",
    "    \n",
    "    def run(self):\n",
    "        rospy.spin()\n",
    "\n",
    "class MainNode:\n",
    "    def __init__(self):\n",
    "        rospy.init_node('main_node', anonymous=True)\n",
    "        \n",
    "        # Crie instâncias das classes de subnós\n",
    "        self.subnode1 = SubNode1()\n",
    "        self.subnode2 = SubNode2()\n",
    "\n",
    "        # Realize qualquer lógica adicional para o nó principal\n",
    "        # ...\n",
    "\n",
    "    def run(self):\n",
    "        # Execute os subnós e o nó principal\n",
    "        self.subnode1.run()\n",
    "        self.subnode2.run()\n",
    "        rospy.spin()\n",
    "\n",
    "if __name__ == '__main__':\n",
    "    main_node = MainNode()\n",
    "    main_node.run()\n"
   ]
  },
  {
   "cell_type": "code",
   "execution_count": 4,
   "metadata": {},
   "outputs": [
    {
     "name": "stdout",
     "output_type": "stream",
     "text": [
      "0.36200000000000004\n"
     ]
    }
   ],
   "source": [
    "print(362000000*1e-9)"
   ]
  },
  {
   "cell_type": "code",
   "execution_count": 12,
   "metadata": {},
   "outputs": [
    {
     "name": "stdout",
     "output_type": "stream",
     "text": [
      "Foram adicionados 50 pontos aleatórios com quaterniões válidos e paralelos ao plano XY ao arquivo CSV.\n"
     ]
    }
   ],
   "source": [
    "import csv\n",
    "import random, math\n",
    "\n",
    "# Nome do arquivo CSV de entrada e saída\n",
    "input_file = \"../waypoints/waypoint_list.csv\"\n",
    "output_file = input_file\n",
    "\n",
    "\n",
    "# Função para gerar um quaternião válido no plano XY\n",
    "def random_quaternion():\n",
    "    ori_x = 0\n",
    "    ori_y = 0\n",
    "    ori_z = random.uniform(-1, 1)  # Define a orientação no plano XY\n",
    "    ori_w = math.sqrt(1 - ori_z**2)  # Garante que o quaternião seja normalizado\n",
    "    return ori_x, ori_y, ori_z, ori_w\n",
    "\n",
    "# Leitura dos dados existentes do arquivo CSV\n",
    "data = []\n",
    "with open(input_file, 'r') as csv_file:\n",
    "    reader = csv.DictReader(csv_file)\n",
    "    for row in reader:\n",
    "        data.append(row)\n",
    "\n",
    "# Geração de novos pontos aleatórios com quaterniões válidos e paralelos ao plano XY\n",
    "num_new_points = 50  # Quantidade de pontos aleatórios a serem adicionados\n",
    "for _ in range(num_new_points):\n",
    "    new_point = {\n",
    "        'pos_x': random.uniform(-20, 20),\n",
    "        'pos_y': random.uniform(-20, 20),\n",
    "        'pos_z': random.uniform(0, 0),\n",
    "    }\n",
    "    ori_x, ori_y, ori_z, ori_w = random_quaternion()\n",
    "    new_point.update({'ori_x': ori_x, 'ori_y': ori_y, 'ori_z': ori_z, 'ori_w': ori_w})\n",
    "    data.append(new_point)\n",
    "\n",
    "# Escrita dos dados atualizados de volta ao arquivo CSV\n",
    "with open(output_file, 'w', newline='') as csv_file:\n",
    "    fieldnames = ['pos_x', 'pos_y', 'pos_z', 'ori_x', 'ori_y', 'ori_z', 'ori_w']\n",
    "    writer = csv.DictWriter(csv_file, fieldnames=fieldnames)\n",
    "    writer.writeheader()\n",
    "    writer.writerows(data)\n",
    "\n",
    "print(f\"Foram adicionados {num_new_points} pontos aleatórios com quaterniões válidos e paralelos ao plano XY ao arquivo CSV.\")"
   ]
  },
  {
   "cell_type": "code",
   "execution_count": null,
   "metadata": {},
   "outputs": [],
   "source": []
  }
 ],
 "metadata": {
  "kernelspec": {
   "display_name": "Python 3",
   "language": "python",
   "name": "python3"
  },
  "language_info": {
   "codemirror_mode": {
    "name": "ipython",
    "version": 3
   },
   "file_extension": ".py",
   "mimetype": "text/x-python",
   "name": "python",
   "nbconvert_exporter": "python",
   "pygments_lexer": "ipython3",
   "version": "3.8.10"
  }
 },
 "nbformat": 4,
 "nbformat_minor": 2
}
