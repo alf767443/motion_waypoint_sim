{
 "cells": [
  {
   "cell_type": "code",
   "execution_count": 1,
   "metadata": {},
   "outputs": [
    {
     "name": "stdout",
     "output_type": "stream",
     "text": [
      "           pos_x  pos_y  pos_z  ori_x  ori_y     ori_z     ori_w\n",
      "count   2.000000    2.0    2.0    2.0    2.0  2.000000  2.000000\n",
      "mean    5.000000    0.0    0.0    0.0    0.0  0.500000  0.500000\n",
      "std     7.071068    0.0    0.0    0.0    0.0  0.707107  0.707107\n",
      "min     0.000000    0.0    0.0    0.0    0.0  0.000000  0.000000\n",
      "25%     2.500000    0.0    0.0    0.0    0.0  0.250000  0.250000\n",
      "50%     5.000000    0.0    0.0    0.0    0.0  0.500000  0.500000\n",
      "75%     7.500000    0.0    0.0    0.0    0.0  0.750000  0.750000\n",
      "max    10.000000    0.0    0.0    0.0    0.0  1.000000  1.000000\n",
      "Imported file\n",
      "The value in row 1 are: \n",
      " pos_x    0\n",
      "pos_y    0\n",
      "pos_z    0\n",
      "ori_x    0\n",
      "ori_y    0\n",
      "ori_z    0\n",
      "ori_w    1\n",
      "Name: 0, dtype: int64\n"
     ]
    }
   ],
   "source": [
    "import pandas as pd\n",
    "\n",
    "class CSVReader:\n",
    "    def __init__(self, file_path='waypoint_list.csv'):\n",
    "        self.file_path = file_path\n",
    "        # Read the csv file\n",
    "        self.read_csv()\n",
    "        self.a = 0\n",
    "\n",
    "    def read_csv(self):\n",
    "        try:\n",
    "            self.df = pd.read_csv(self.file_path)\n",
    "            print(f\"{self.df.describe()}\")\n",
    "            print('Imported file')\n",
    "            return True\n",
    "        except Exception as e:\n",
    "            print(f\"Erro ao ler o arquivo CSV: {str(e)}\")\n",
    "            return False\n",
    "        \n",
    "    def get_row(self, row:int):\n",
    "        try:\n",
    "            # Get the row value\n",
    "            value = self.df.iloc[row - 1]\n",
    "            print(f\"The value in row {str(row)} are: \\n {str(value)}\")\n",
    "            return value\n",
    "        except Exception as e:\n",
    "            print(f\"Error to get the row {str(row)}\")\n",
    "            print(\"An exception occurred:\", type(e).__name__,e.args)\n",
    "            return False\n",
    "\n",
    "# Exemplo de uso\n",
    "if __name__ == \"__main__\":\n",
    "    # Substitua 'seu_arquivo.csv' pelo caminho do seu arquivo CSV\n",
    "    csv_reader = CSVReader()\n",
    "    csv_reader.get_row(1)\n",
    "    csv_reader.a\n"
   ]
  },
  {
   "cell_type": "code",
   "execution_count": null,
   "metadata": {},
   "outputs": [],
   "source": []
  }
 ],
 "metadata": {
  "kernelspec": {
   "display_name": "Python 3",
   "language": "python",
   "name": "python3"
  },
  "language_info": {
   "codemirror_mode": {
    "name": "ipython",
    "version": 3
   },
   "file_extension": ".py",
   "mimetype": "text/x-python",
   "name": "python",
   "nbconvert_exporter": "python",
   "pygments_lexer": "ipython3",
   "version": "3.8.10"
  }
 },
 "nbformat": 4,
 "nbformat_minor": 2
}
